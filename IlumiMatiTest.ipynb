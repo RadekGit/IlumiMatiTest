{
 "cells": [
  {
   "cell_type": "code",
   "execution_count": null,
   "metadata": {},
   "outputs": [],
   "source": [
    "!git init"
   ]
  },
  {
   "cell_type": "code",
   "execution_count": null,
   "metadata": {},
   "outputs": [],
   "source": [
    "!git add C:\\Programs\\Python64\\Day2\\IlumiMatiTest.ipynb"
   ]
  },
  {
   "cell_type": "code",
   "execution_count": null,
   "metadata": {},
   "outputs": [],
   "source": [
    "!git config --global user.email \"radoslaw.suwala@gmail.com\""
   ]
  },
  {
   "cell_type": "code",
   "execution_count": null,
   "metadata": {},
   "outputs": [],
   "source": [
    "!git config --global user.name \"RadekGit\""
   ]
  },
  {
   "cell_type": "code",
   "execution_count": null,
   "metadata": {},
   "outputs": [],
   "source": [
    "!git commit -m \"Nowa Paczka\""
   ]
  },
  {
   "cell_type": "code",
   "execution_count": null,
   "metadata": {},
   "outputs": [],
   "source": [
    "!git remote add origin https://github.com/RadekGit/IlumiMatiTest.git"
   ]
  },
  {
   "cell_type": "code",
   "execution_count": null,
   "metadata": {},
   "outputs": [],
   "source": [
    "!git fetch"
   ]
  },
  {
   "cell_type": "code",
   "execution_count": null,
   "metadata": {},
   "outputs": [],
   "source": [
    "!git pull"
   ]
  },
  {
   "cell_type": "code",
   "execution_count": null,
   "metadata": {},
   "outputs": [],
   "source": [
    "!git push --set-upstream origin master"
   ]
  },
  {
   "cell_type": "code",
   "execution_count": null,
   "metadata": {},
   "outputs": [],
   "source": [
    "!git status"
   ]
  },
  {
   "cell_type": "code",
   "execution_count": 1,
   "metadata": {},
   "outputs": [],
   "source": [
    "import pandas as pd"
   ]
  },
  {
   "cell_type": "code",
   "execution_count": 3,
   "metadata": {},
   "outputs": [
    {
     "name": "stdout",
     "output_type": "stream",
     "text": [
      " Volume in drive C is OSDisk\n",
      " Volume Serial Number is F2CA-5AE2\n",
      "\n",
      " Directory of C:\\Programs\\Python64\\Day2\n",
      "\n",
      "19.07.2020  21:13    <DIR>          .\n",
      "19.07.2020  21:13    <DIR>          ..\n",
      "19.07.2020  20:06    <DIR>          .ipynb_checkpoints\n",
      "04.09.2019  22:53    <DIR>          Data\n",
      "04.09.2019  22:49       240 343 011 data.zip\n",
      "03.09.2019  10:59            61 722 Day2.ipynb\n",
      "04.09.2019  23:51            13 794 Day3.ipynb\n",
      "19.07.2020  21:13             2 283 IlumiMatiTest.ipynb\n",
      "19.07.2020  21:08                16 python.txt\n",
      "08.07.2020  13:49    <DIR>          radek\n",
      "03.09.2019  09:36                72 Untitled.ipynb\n",
      "04.09.2019  22:44               576 Untitled1.ipynb\n",
      "08.07.2020  14:13            10 731 Untitled2.ipynb\n",
      "               8 File(s)    240 432 205 bytes\n",
      "               5 Dir(s)   7 106 949 120 bytes free\n"
     ]
    }
   ],
   "source": [
    "!git add "
   ]
  },
  {
   "cell_type": "code",
   "execution_count": null,
   "metadata": {},
   "outputs": [],
   "source": []
  }
 ],
 "metadata": {
  "kernelspec": {
   "display_name": "Python 3",
   "language": "python",
   "name": "python3"
  },
  "language_info": {
   "codemirror_mode": {
    "name": "ipython",
    "version": 3
   },
   "file_extension": ".py",
   "mimetype": "text/x-python",
   "name": "python",
   "nbconvert_exporter": "python",
   "pygments_lexer": "ipython3",
   "version": "3.7.2"
  }
 },
 "nbformat": 4,
 "nbformat_minor": 2
}
